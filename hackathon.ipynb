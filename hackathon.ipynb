{
 "cells": [
  {
   "cell_type": "markdown",
   "id": "7852175e-fa63-4253-aaf9-ebc0fe349ee5",
   "metadata": {},
   "source": [
    "## Hackaton"
   ]
  },
  {
   "cell_type": "code",
   "execution_count": 1,
   "id": "4cf08cee-341b-4e84-9b17-1cdf7725b855",
   "metadata": {},
   "outputs": [],
   "source": [
    "\"\"\"WARNING MESSAGE 숨감\"\"\"\n",
    "import warnings\n",
    "warnings.filterwarnings(action='ignore')"
   ]
  },
  {
   "cell_type": "code",
   "execution_count": 2,
   "id": "73c5bd8a-d918-479d-a7ed-0a0966525685",
   "metadata": {},
   "outputs": [],
   "source": [
    "import os\n",
    "import glob\n",
    "import json\n",
    "import numpy as np\n",
    "import pandas as pd\n",
    "import matplotlib.pyplot as plt\n",
    "import matplotlib.patches as patches\n",
    "import matplotlib.font_manager as fm\n",
    "f_path = \"C:/windows/Fonts/malgun.ttf\"\n",
    "fm.FontProperties(fname=f_path).get_name()\n",
    "plt.rc('font', family='Malgun Gothic')\n",
    "plt.rc('axes', unicode_minus=False)\n",
    "from PIL import Image\n",
    "from skimage.transform import resize\n",
    "from tqdm import tqdm\n",
    "import gc\n",
    "from sklearn.model_selection import StratifiedKFold\n",
    "\n",
    "import tensorflow as tf\n",
    "from tensorflow.keras.models import Sequential, load_model\n",
    "from tensorflow.keras.layers import Dropout, Dense, GlobalAveragePooling2D\n",
    "from tensorflow.keras.optimizers import Adam\n",
    "from tensorflow.keras.applications import EfficientNetB0"
   ]
  },
  {
   "cell_type": "code",
   "execution_count": 3,
   "id": "1ede9249-bf73-4c83-8e1d-e7eaacb4621c",
   "metadata": {},
   "outputs": [
    {
     "data": {
      "text/plain": [
       "[name: \"/device:CPU:0\"\n",
       " device_type: \"CPU\"\n",
       " memory_limit: 268435456\n",
       " locality {\n",
       " }\n",
       " incarnation: 10321921137676159558\n",
       " xla_global_id: -1,\n",
       " name: \"/device:GPU:0\"\n",
       " device_type: \"GPU\"\n",
       " memory_limit: 22718447616\n",
       " locality {\n",
       "   bus_id: 1\n",
       "   links {\n",
       "   }\n",
       " }\n",
       " incarnation: 8295074075195142387\n",
       " physical_device_desc: \"device: 0, name: NVIDIA GeForce RTX 3090, pci bus id: 0000:01:00.0, compute capability: 8.6\"\n",
       " xla_global_id: 416903419]"
      ]
     },
     "execution_count": 3,
     "metadata": {},
     "output_type": "execute_result"
    }
   ],
   "source": [
    "\"\"\"GPU 환경 설정하기\"\"\"\n",
    "from tensorflow.python.client import device_lib\n",
    "import os\n",
    "os.environ[\"CUDA_DEVICE_ORDER\"]=\"PCI_BUS_ID\"\n",
    "os.environ[\"CUDA_VISIBLE_DEVICES\"] = \"0\"\n",
    "\n",
    "\"\"\"tensorflow 환경에서 GPU 사용 여부 확인\"\"\"\n",
    "device_lib.list_local_devices()"
   ]
  },
  {
   "cell_type": "markdown",
   "id": "77775ac1-a073-4610-8dc2-2c6bdd7fd7bb",
   "metadata": {
    "tags": []
   },
   "source": [
    "#### 데이터 분석 (10점)"
   ]
  },
  {
   "cell_type": "markdown",
   "id": "1e31e3dd-9b52-49a4-a3b4-372dff321586",
   "metadata": {
    "tags": []
   },
   "source": [
    "##### 데이터 불러오기"
   ]
  },
  {
   "cell_type": "code",
   "execution_count": null,
   "id": "cdedd2ee-05b5-4788-a7ee-9e33db9304a6",
   "metadata": {},
   "outputs": [],
   "source": [
    "# json 파일 분석\n",
    "file_path = \"./S63_DATA1/C1/E63_DATA1_C1_L3_D2023-09-06-21-53_031_000001.json\"\n",
    "with open(file_path, 'r', encoding='utf8') as file:\n",
    "    data = json.load(file)"
   ]
  },
  {
   "cell_type": "markdown",
   "id": "443e1c87-badb-4e4b-9a6a-63af2fdd33f7",
   "metadata": {
    "tags": []
   },
   "source": [
    "##### 데이터 및 데이터 타입 확인"
   ]
  },
  {
   "cell_type": "code",
   "execution_count": null,
   "id": "e3c1e6fd-17ee-45bb-a8f0-d911ce7baf27",
   "metadata": {},
   "outputs": [],
   "source": [
    "# 데이터 타입 확인\n",
    "print(type(data))"
   ]
  },
  {
   "cell_type": "code",
   "execution_count": null,
   "id": "3160bba3-1fc6-46d1-bb56-10845256d84e",
   "metadata": {},
   "outputs": [],
   "source": [
    "# 데이터 key 확인\n",
    "print(data.keys())"
   ]
  },
  {
   "cell_type": "code",
   "execution_count": null,
   "id": "ffabd7f5-7a35-456e-ba2b-2516fd393d3d",
   "metadata": {},
   "outputs": [],
   "source": [
    "# key 별 데이터 확인\n",
    "print(\"data_info: {}\".format(data[\"data_info\"]))\n",
    "print()\n",
    "print(\"categories: {}\".format(data[\"categories\"]))\n",
    "print()\n",
    "print(\"class: {}\".format(data[\"class\"]))\n",
    "print()\n",
    "print(\"images: {}\".format(data[\"images\"]))\n",
    "print()\n",
    "print(\"annotations: {}\".format(data[\"annotations\"]))"
   ]
  },
  {
   "cell_type": "code",
   "execution_count": null,
   "id": "bd01042d-2bba-4d0e-abb6-34a8e6af4564",
   "metadata": {},
   "outputs": [],
   "source": [
    "print(\"class name: {}\".format(data[\"class\"][0][\"name\"]))\n",
    "print(\"class name: {}\".format(data[\"class\"][1][\"name\"]))"
   ]
  },
  {
   "cell_type": "code",
   "execution_count": null,
   "id": "77cf55dd-233b-4f94-96df-4a2a94bf0c5f",
   "metadata": {},
   "outputs": [],
   "source": [
    "# 이미지 데이터 확인\n",
    "img = Image.open(\"./S63_DATA1/C1/E63_DATA1_C1_L3_D2023-09-06-21-53_031_000001.jpg\")\n",
    "plt.imshow(img)"
   ]
  },
  {
   "cell_type": "code",
   "execution_count": null,
   "id": "54a4c77a-dc8a-457f-b6dc-a265f8323bbf",
   "metadata": {},
   "outputs": [],
   "source": [
    "print(np.array(img).max(), np.array(img).min())"
   ]
  },
  {
   "cell_type": "markdown",
   "id": "4d42d460-94e7-4e44-8216-eb3d9738542a",
   "metadata": {
    "tags": []
   },
   "source": [
    "##### 데이터셋 생성"
   ]
  },
  {
   "cell_type": "code",
   "execution_count": null,
   "id": "c6a7c2ee-78e0-48c4-87ac-20d74968878e",
   "metadata": {},
   "outputs": [],
   "source": [
    "DATA1_path = \"./S63_DATA1\"\n",
    "DATA1_lst = os.listdir(DATA1_path)"
   ]
  },
  {
   "cell_type": "code",
   "execution_count": null,
   "id": "6a0e09b4-e364-48fc-9f4b-817c2d877c5f",
   "metadata": {},
   "outputs": [],
   "source": [
    "DATA1_lst"
   ]
  },
  {
   "cell_type": "code",
   "execution_count": null,
   "id": "2b9313ba-4c44-4685-8d02-dbd6822d0f7c",
   "metadata": {},
   "outputs": [],
   "source": [
    "# 메모리 지우기\n",
    "import gc\n",
    "gc.collect()"
   ]
  },
  {
   "cell_type": "code",
   "execution_count": null,
   "id": "c8793fc2-76dd-4a98-b456-94ad161fe663",
   "metadata": {},
   "outputs": [],
   "source": [
    "def create_dataset(category_list=['C1', 'G1', 'H1', 'I1', 'T1']):\n",
    "    X = []\n",
    "    y = []\n",
    "    for category in category_list:\n",
    "        # 카테고리별 데이터 개수 파악\n",
    "        img_lst = glob.glob(DATA1_path + \"/\" + category + \"/*.jpg\")\n",
    "        # 카테고리별 데이터 셋 생성\n",
    "        for idx in tqdm(range(len(img_lst))):\n",
    "            img_path = img_lst[idx]\n",
    "            img = np.array(Image.open(img_path))\n",
    "            resized_img = resize(img, (224, 224, 3), preserve_range=True, anti_aliasing=True)/255.0\n",
    "            X.append(resized_img)\n",
    "            y.append(category)\n",
    "    return X, y"
   ]
  },
  {
   "cell_type": "code",
   "execution_count": null,
   "id": "d7fc7d55-af27-48fd-975f-8ce17e4cdf02",
   "metadata": {
    "scrolled": true,
    "tags": []
   },
   "outputs": [],
   "source": [
    "X, y = create_dataset()"
   ]
  },
  {
   "cell_type": "code",
   "execution_count": null,
   "id": "08725b03-c237-41ad-afef-64652903f75f",
   "metadata": {},
   "outputs": [],
   "source": [
    "print(len(X), len(y))"
   ]
  },
  {
   "cell_type": "code",
   "execution_count": null,
   "id": "4f43fb88-8923-491c-a98f-4ab64c65f85a",
   "metadata": {},
   "outputs": [],
   "source": [
    "# 메모리 지우기\n",
    "import gc\n",
    "gc.collect()"
   ]
  },
  {
   "cell_type": "code",
   "execution_count": null,
   "id": "b4d3d62a-3906-4ffe-893e-59d00eddca3c",
   "metadata": {},
   "outputs": [],
   "source": [
    "print(X[0].shape)"
   ]
  },
  {
   "cell_type": "code",
   "execution_count": null,
   "id": "998012be-dc39-4ce5-b139-8358f55b1bf3",
   "metadata": {},
   "outputs": [],
   "source": [
    "X = np.array(X)\n",
    "print(X.max(), X.min(), X.mean())"
   ]
  },
  {
   "cell_type": "code",
   "execution_count": null,
   "id": "f6f80be9-4498-4dfa-b543-4de360c428a9",
   "metadata": {},
   "outputs": [],
   "source": [
    "# 정답 데이터의 One hot Encoding 작업"
   ]
  },
  {
   "cell_type": "code",
   "execution_count": null,
   "id": "71832bd3-ef5a-4526-9242-eb4652cbb73d",
   "metadata": {},
   "outputs": [],
   "source": [
    "from sklearn.preprocessing import OneHotEncoder\n",
    "\n",
    "enc = OneHotEncoder(sparse=False)\n",
    "enc.fit(np.array(y).reshape(-1, 1))\n",
    "y_enc = enc.transform(np.array(y).reshape(-1, 1))"
   ]
  },
  {
   "cell_type": "code",
   "execution_count": null,
   "id": "aa3b0c66-436d-4c6d-b6f0-e2df3681e256",
   "metadata": {},
   "outputs": [],
   "source": [
    "print(y_enc[0])\n",
    "print(y_enc[6000])\n",
    "print(y_enc[12000])\n",
    "print(y_enc[18000])\n",
    "print(y_enc[24000])"
   ]
  },
  {
   "cell_type": "code",
   "execution_count": null,
   "id": "214dc091-c286-41b9-a815-b8532311e3c6",
   "metadata": {
    "tags": []
   },
   "outputs": [],
   "source": [
    "import pickle\n",
    "# pkl 저장\n",
    "with open('X_224.pickle', 'wb') as f:\n",
    "    pickle.dump(X, f)\n",
    "with open('y.pickle', 'wb') as f:\n",
    "    pickle.dump(y_enc, f)"
   ]
  },
  {
   "cell_type": "markdown",
   "id": "3adb2e18-ccfb-48c8-8dc3-94636cbb80c3",
   "metadata": {},
   "source": [
    "##### 저장된 데이터셋 불러오기"
   ]
  },
  {
   "cell_type": "code",
   "execution_count": 4,
   "id": "7e9035ca-eb28-4f36-87c1-1468c6a0a22e",
   "metadata": {},
   "outputs": [],
   "source": [
    "import pickle\n",
    "# pkl 저장\n",
    "with open('X_224.pickle', 'rb') as f:\n",
    "    X = pickle.load(f)"
   ]
  },
  {
   "cell_type": "code",
   "execution_count": 5,
   "id": "4196950d-80d3-4b0b-91d0-350da75d3a30",
   "metadata": {},
   "outputs": [],
   "source": [
    "with open('y.pickle', 'rb') as f:\n",
    "    y_enc = pickle.load(f)"
   ]
  },
  {
   "cell_type": "code",
   "execution_count": 6,
   "id": "ca01ba8f-3e8b-48c3-b263-d6327b24a670",
   "metadata": {},
   "outputs": [],
   "source": [
    "from sklearn.model_selection import train_test_split\n",
    "\n",
    "X_train, X_test, y_train, y_test = train_test_split(X, y_enc, stratify=y_enc, random_state=42, test_size = 0.2)"
   ]
  },
  {
   "cell_type": "code",
   "execution_count": 7,
   "id": "f511d13e-e45d-4ee0-8788-41cff650076e",
   "metadata": {},
   "outputs": [
    {
     "name": "stdout",
     "output_type": "stream",
     "text": [
      "(24000, 224, 224, 3) (24000, 5)\n",
      "(6000, 224, 224, 3) (6000, 5)\n"
     ]
    }
   ],
   "source": [
    "print(X_train.shape, y_train.shape)\n",
    "print(X_test.shape, y_test.shape)"
   ]
  },
  {
   "cell_type": "markdown",
   "id": "5ee31f64-aa28-4d52-a1cc-21e074f345e3",
   "metadata": {},
   "source": [
    "#### 모델 알고리즘 (30점)"
   ]
  },
  {
   "cell_type": "code",
   "execution_count": null,
   "id": "3eaaab51-5bf0-4fad-a194-262dbdc85b8f",
   "metadata": {},
   "outputs": [],
   "source": [
    "# 메모리 지우기\n",
    "import gc\n",
    "gc.collect()"
   ]
  },
  {
   "cell_type": "code",
   "execution_count": 8,
   "id": "89f00a78-a567-4f18-a31f-c945145fbf0a",
   "metadata": {},
   "outputs": [],
   "source": [
    "def create_None_model():\n",
    "    model = EfficientNetB0(weights=None, include_top=True, input_shape=(224, 224, 3), classes=5)\n",
    "    return model"
   ]
  },
  {
   "cell_type": "code",
   "execution_count": 9,
   "id": "9f8b9ced-1db9-49cc-a184-13edad00f557",
   "metadata": {},
   "outputs": [],
   "source": [
    "def create_model():\n",
    "    efnb0 = EfficientNetB0(weights='imagenet', include_top=False, input_shape=(224, 224, 3), classes=5)\n",
    "\n",
    "    model = Sequential()\n",
    "    model.add(efnb0)\n",
    "    model.add(GlobalAveragePooling2D())\n",
    "    model.add(Dropout(0.2))\n",
    "    model.add(Dense(5, activation='softmax'))\n",
    "    \n",
    "    return model"
   ]
  },
  {
   "cell_type": "code",
   "execution_count": null,
   "id": "70eaed8f-efb0-4e28-9323-6b89a48fa2b8",
   "metadata": {},
   "outputs": [],
   "source": [
    "B0_model = create_None_model()\n",
    "cnn_model = create_model()"
   ]
  },
  {
   "cell_type": "code",
   "execution_count": null,
   "id": "f2871fb6-c0e7-48e1-8a2d-430b74878f78",
   "metadata": {},
   "outputs": [],
   "source": [
    "B0_model.compile(optimizer=\"adam\", loss=\"categorical_crossentropy\", metrics=[\"accuracy\"])\n",
    "cnn_model.compile(optimizer=\"adam\", loss=\"categorical_crossentropy\", metrics=[\"accuracy\"])"
   ]
  },
  {
   "cell_type": "code",
   "execution_count": null,
   "id": "f8b382ad-31fb-474a-916e-b5cbcf5de169",
   "metadata": {
    "scrolled": true,
    "tags": []
   },
   "outputs": [],
   "source": [
    "B0_model.summary()"
   ]
  },
  {
   "cell_type": "code",
   "execution_count": null,
   "id": "d9b89294-2c91-481b-a664-ef2d2b875156",
   "metadata": {},
   "outputs": [],
   "source": [
    "cnn_model.summary()"
   ]
  },
  {
   "cell_type": "code",
   "execution_count": null,
   "id": "b18ae815-04c2-43e8-a185-7cc03b016609",
   "metadata": {},
   "outputs": [],
   "source": [
    "import tensorflow as tf\n",
    "from tensorflow.keras import datasets, layers, models\n",
    "\n",
    "gpus = tf.config.experimental.list_physical_devices('GPU')\n",
    "if gpus:\n",
    "    try:\n",
    "        # Currently, memory growth needs to be the same across GPUs\n",
    "        for gpu in gpus:\n",
    "            tf.config.experimental.set_memory_growth(gpu, True)\n",
    "    except RuntimeError as e:\n",
    "        # Memory growth must be set before GPUs have been initialized\n",
    "        print(e)"
   ]
  },
  {
   "cell_type": "code",
   "execution_count": null,
   "id": "b619b83b-5e22-48e7-a409-d19bf198ba7e",
   "metadata": {},
   "outputs": [],
   "source": [
    "B0_history = B0_model.fit(X_train[0:10000], y_train[0:10000], verbose=1, epochs=5, batch_size=8, validation_split=0.2)"
   ]
  },
  {
   "cell_type": "code",
   "execution_count": null,
   "id": "85843e11-6a8d-457d-a08b-3727e4fecfda",
   "metadata": {},
   "outputs": [],
   "source": [
    "cnn_history = cnn_model.fit(X_train[0:10000], y_train[0:10000], verbose=1, epochs=5, batch_size=8, validation_split=0.2)"
   ]
  },
  {
   "cell_type": "code",
   "execution_count": null,
   "id": "07d56d8f-d5df-4e58-b65a-9b8bf63035a0",
   "metadata": {},
   "outputs": [],
   "source": [
    "B0_model.evaluate(X_test, y_test)"
   ]
  },
  {
   "cell_type": "code",
   "execution_count": null,
   "id": "d7cbab8e-b451-4327-aa91-bbcaaee0f89f",
   "metadata": {},
   "outputs": [],
   "source": [
    "cnn_model.evaluate(X_test, y_test)"
   ]
  },
  {
   "cell_type": "code",
   "execution_count": 10,
   "id": "b208f2d2-a06d-4e09-bf99-4199dca165e9",
   "metadata": {},
   "outputs": [],
   "source": [
    "def train_model(num, method=[1, 2, 3]):\n",
    "    \n",
    "    # 메모리 초기화\n",
    "    gc.collect()\n",
    "    print(\"메모리 초기화 완료.\")\n",
    "    model_lst = []\n",
    "    history_lst = []\n",
    "    \n",
    "    if 1 in method:\n",
    "        # stratifiedKfold\n",
    "        print(\"Started Stratified K-fold...\")\n",
    "        str_kf = StratifiedKFold(n_splits=num, random_state=42, shuffle=True)\n",
    "        # split 개수 스텝 만큼 train, test 데이터셋을 매번 분할\n",
    "        idx=0\n",
    "        for train_index, test_index in str_kf.split(X_train, y_train.argmax(1)):\n",
    "            X_train_kf, X_valid_kf = X_train[train_index], X_train[test_index]\n",
    "            y_train_kf, y_valid_kf = y_train[train_index], y_train[test_index]\n",
    "            kfold_model = create_None_model()\n",
    "            kfold_model.compile(optimizer=\"adam\", loss=\"categorical_crossentropy\", metrics=[\"accuracy\"])\n",
    "            history = kfold_model.fit(X_train_kf, y_train_kf, verbose=1, epochs=10, batch_size=8, validation_data=(X_valid_kf, y_valid_kf))\n",
    "            idx+=1\n",
    "            model_lst.append(kfold_model)\n",
    "            history_lst.append(history)\n",
    "            gc.collect()\n",
    "            print(\"({}/{})...Finished!\".format(idx+1, num))\n",
    "            print()\n",
    "    \n",
    "    elif 2 in method:\n",
    "        print(\"Merge Model is started learning....\")\n",
    "        # 통합모델\n",
    "        sum_model = create_None_model()\n",
    "        sum_model.compile(optimizer=\"adam\", loss=\"categorical_crossentropy\", metrics=[\"accuracy\"])\n",
    "        for i in range(num):\n",
    "            ranges = int(len(X_train)/num)\n",
    "            print(\"{}/{}\".format(i+1, num))\n",
    "            history = sum_model.fit(X_train[ranges*i:ranges*(i+1)], y_train[ranges*i:ranges*(i+1)], verbose=1, epochs=30, batch_size=8, validation_split=0.2)\n",
    "        model_lst.append(sum_model)\n",
    "        history_lst.append(history)\n",
    "        gc.collect()\n",
    "        print(\"Merge Model learning is finished!!!!\")\n",
    "        print()\n",
    "    \n",
    "    elif 3 in method:\n",
    "        print(\"Each Models are started learning...\")\n",
    "        # 개별모델\n",
    "        for i in range(num):\n",
    "            ranges = int(len(X_train)/num)\n",
    "            each_model = create_None_model()\n",
    "            each_model.compile(optimizer=\"adam\", loss=\"categorical_crossentropy\", metrics=[\"accuracy\"])\n",
    "            print(\"Start: {}, End: {}\".format(ranges*i, ranges*(i+1)))\n",
    "\n",
    "            # 데이터\n",
    "            print(\"SHAPE: {} / {}\".format(X_train[ranges*i:ranges*(i+1)].shape, y_train[ranges*i:ranges*(i+1)].shape))\n",
    "            history = each_model.fit(X_train[ranges*i:ranges*(i+1)], y_train[ranges*i:ranges*(i+1)], verbose=1, epochs=10, batch_size=8, validation_split=0.2)\n",
    "            model_lst.append(each_model)\n",
    "            history_lst.append(history)\n",
    "            gc.collect()\n",
    "            print(\"({}/{})...Finished!\".format(i+1, num))\n",
    "            print()\n",
    "\n",
    "    return model_lst, history_lst"
   ]
  },
  {
   "cell_type": "code",
   "execution_count": 11,
   "id": "9123d42b-41cb-486a-8809-946df6fb2a75",
   "metadata": {
    "scrolled": true,
    "tags": []
   },
   "outputs": [
    {
     "name": "stdout",
     "output_type": "stream",
     "text": [
      "메모리 초기화 완료.\n",
      "Started Stratified K-fold...\n",
      "Epoch 1/10\n",
      "2000/2000 [==============================] - 140s 61ms/step - loss: 0.3771 - accuracy: 0.9097 - val_loss: 0.7996 - val_accuracy: 0.9107\n",
      "Epoch 2/10\n",
      "2000/2000 [==============================] - 117s 59ms/step - loss: 0.0587 - accuracy: 0.9845 - val_loss: 0.0022 - val_accuracy: 0.9998\n",
      "Epoch 3/10\n",
      "2000/2000 [==============================] - 119s 60ms/step - loss: 0.0415 - accuracy: 0.9890 - val_loss: 0.0033 - val_accuracy: 0.9989\n",
      "Epoch 4/10\n",
      "2000/2000 [==============================] - 117s 59ms/step - loss: 0.0307 - accuracy: 0.9908 - val_loss: 2.2914e-05 - val_accuracy: 1.0000\n",
      "Epoch 5/10\n",
      "2000/2000 [==============================] - 119s 59ms/step - loss: 0.0148 - accuracy: 0.9956 - val_loss: 1.8682e-06 - val_accuracy: 1.0000\n",
      "Epoch 6/10\n",
      "2000/2000 [==============================] - 118s 59ms/step - loss: 0.0242 - accuracy: 0.9936 - val_loss: 0.3048 - val_accuracy: 0.9454\n",
      "Epoch 7/10\n",
      "2000/2000 [==============================] - 118s 59ms/step - loss: 0.0116 - accuracy: 0.9967 - val_loss: 2.2557e-07 - val_accuracy: 1.0000\n",
      "Epoch 8/10\n",
      "2000/2000 [==============================] - 119s 59ms/step - loss: 0.0110 - accuracy: 0.9969 - val_loss: 0.7101 - val_accuracy: 0.9389\n",
      "Epoch 9/10\n",
      "2000/2000 [==============================] - 118s 59ms/step - loss: 0.0125 - accuracy: 0.9966 - val_loss: 7.0110e-08 - val_accuracy: 1.0000\n",
      "Epoch 10/10\n",
      "2000/2000 [==============================] - 118s 59ms/step - loss: 0.0078 - accuracy: 0.9978 - val_loss: 1.8895e-07 - val_accuracy: 1.0000\n",
      "(2/3)...Finished!\n",
      "\n",
      "Epoch 1/10\n",
      "2000/2000 [==============================] - 124s 59ms/step - loss: 0.3612 - accuracy: 0.9184 - val_loss: 0.0099 - val_accuracy: 0.9996\n",
      "Epoch 2/10\n",
      "2000/2000 [==============================] - 117s 58ms/step - loss: 0.0471 - accuracy: 0.9866 - val_loss: 0.2618 - val_accuracy: 0.9505\n",
      "Epoch 3/10\n",
      "2000/2000 [==============================] - 115s 58ms/step - loss: 0.0401 - accuracy: 0.9891 - val_loss: 2.7484e-04 - val_accuracy: 1.0000\n",
      "Epoch 4/10\n",
      "2000/2000 [==============================] - 116s 58ms/step - loss: 0.0190 - accuracy: 0.9951 - val_loss: 5.4756e-06 - val_accuracy: 1.0000\n",
      "Epoch 5/10\n",
      "2000/2000 [==============================] - 115s 58ms/step - loss: 0.0267 - accuracy: 0.9938 - val_loss: 1.7327e-07 - val_accuracy: 1.0000\n",
      "Epoch 6/10\n",
      "2000/2000 [==============================] - 116s 58ms/step - loss: 0.0268 - accuracy: 0.9926 - val_loss: 9.6739e-05 - val_accuracy: 1.0000\n",
      "Epoch 7/10\n",
      "2000/2000 [==============================] - 116s 58ms/step - loss: 0.0185 - accuracy: 0.9952 - val_loss: 1.8773e-06 - val_accuracy: 1.0000\n",
      "Epoch 8/10\n",
      "2000/2000 [==============================] - 116s 58ms/step - loss: 0.0098 - accuracy: 0.9974 - val_loss: 0.0010 - val_accuracy: 0.9999\n",
      "Epoch 9/10\n",
      "2000/2000 [==============================] - 113s 57ms/step - loss: 0.0099 - accuracy: 0.9973 - val_loss: 3.6537e-08 - val_accuracy: 1.0000\n",
      "Epoch 10/10\n",
      "2000/2000 [==============================] - 113s 57ms/step - loss: 0.0118 - accuracy: 0.9978 - val_loss: 5.2454e-07 - val_accuracy: 1.0000\n",
      "(3/3)...Finished!\n",
      "\n",
      "Epoch 1/10\n",
      "2000/2000 [==============================] - 125s 60ms/step - loss: 0.3824 - accuracy: 0.9154 - val_loss: 0.1193 - val_accuracy: 0.9431\n",
      "Epoch 2/10\n",
      "2000/2000 [==============================] - 117s 59ms/step - loss: 0.0606 - accuracy: 0.9841 - val_loss: 0.8069 - val_accuracy: 0.8099\n",
      "Epoch 3/10\n",
      "2000/2000 [==============================] - 118s 59ms/step - loss: 0.0492 - accuracy: 0.9869 - val_loss: 3.5395e-05 - val_accuracy: 1.0000\n",
      "Epoch 4/10\n",
      "2000/2000 [==============================] - 118s 59ms/step - loss: 0.0205 - accuracy: 0.9946 - val_loss: 1.2509e-04 - val_accuracy: 0.9999\n",
      "Epoch 5/10\n",
      "2000/2000 [==============================] - 118s 59ms/step - loss: 0.0298 - accuracy: 0.9926 - val_loss: 1.1502e-04 - val_accuracy: 1.0000\n",
      "Epoch 6/10\n",
      "2000/2000 [==============================] - 118s 59ms/step - loss: 0.0194 - accuracy: 0.9949 - val_loss: 9.3635e-06 - val_accuracy: 1.0000\n",
      "Epoch 7/10\n",
      "2000/2000 [==============================] - 118s 59ms/step - loss: 0.0134 - accuracy: 0.9964 - val_loss: 2.3053e-04 - val_accuracy: 1.0000\n",
      "Epoch 8/10\n",
      "2000/2000 [==============================] - 118s 59ms/step - loss: 0.0044 - accuracy: 0.9986 - val_loss: 3.9905e-08 - val_accuracy: 1.0000\n",
      "Epoch 9/10\n",
      "2000/2000 [==============================] - 118s 59ms/step - loss: 0.0174 - accuracy: 0.9955 - val_loss: 5.5330e-07 - val_accuracy: 1.0000\n",
      "Epoch 10/10\n",
      "2000/2000 [==============================] - 117s 59ms/step - loss: 0.0157 - accuracy: 0.9961 - val_loss: 9.3544e-06 - val_accuracy: 1.0000\n",
      "(4/3)...Finished!\n",
      "\n"
     ]
    }
   ],
   "source": [
    "kfold_model_lst, kfold_history_lst = train_model(3, [1])"
   ]
  },
  {
   "cell_type": "code",
   "execution_count": 19,
   "id": "e577e4a3-113f-4661-8a7f-3bb84eeac187",
   "metadata": {},
   "outputs": [],
   "source": [
    "idx=0\n",
    "for i in kfold_model_lst:\n",
    "    i.save(\"kforld_model_{}.h5\".format(idx))\n",
    "    idx+=1"
   ]
  },
  {
   "cell_type": "code",
   "execution_count": 12,
   "id": "42c65885-5475-4710-b7b4-74ed5d71c753",
   "metadata": {
    "scrolled": true,
    "tags": []
   },
   "outputs": [
    {
     "name": "stdout",
     "output_type": "stream",
     "text": [
      "메모리 초기화 완료.\n",
      "Merge Model is started learning....\n",
      "1/3\n",
      "Epoch 1/30\n",
      "800/800 [==============================] - 52s 59ms/step - loss: 0.7385 - accuracy: 0.8300 - val_loss: 1.3976 - val_accuracy: 0.5694\n",
      "Epoch 2/30\n",
      "800/800 [==============================] - 45s 57ms/step - loss: 0.0960 - accuracy: 0.9741 - val_loss: 0.1174 - val_accuracy: 0.9606\n",
      "Epoch 3/30\n",
      "800/800 [==============================] - 46s 57ms/step - loss: 0.0784 - accuracy: 0.9787 - val_loss: 0.2868 - val_accuracy: 0.9506\n",
      "Epoch 4/30\n",
      "800/800 [==============================] - 46s 57ms/step - loss: 0.0445 - accuracy: 0.9867 - val_loss: 0.0228 - val_accuracy: 0.9919\n",
      "Epoch 5/30\n",
      "800/800 [==============================] - 46s 57ms/step - loss: 0.0720 - accuracy: 0.9795 - val_loss: 6.4792e-05 - val_accuracy: 1.0000\n",
      "Epoch 6/30\n",
      "800/800 [==============================] - 46s 57ms/step - loss: 0.0256 - accuracy: 0.9927 - val_loss: 1.2056e-04 - val_accuracy: 1.0000\n",
      "Epoch 7/30\n",
      "800/800 [==============================] - 46s 57ms/step - loss: 0.0243 - accuracy: 0.9937 - val_loss: 0.0105 - val_accuracy: 0.9981\n",
      "Epoch 8/30\n",
      "800/800 [==============================] - 46s 57ms/step - loss: 0.0755 - accuracy: 0.9817 - val_loss: 1.3215e-04 - val_accuracy: 1.0000\n",
      "Epoch 9/30\n",
      "800/800 [==============================] - 46s 57ms/step - loss: 0.0242 - accuracy: 0.9922 - val_loss: 3.6134e-05 - val_accuracy: 1.0000\n",
      "Epoch 10/30\n",
      "800/800 [==============================] - 46s 57ms/step - loss: 0.0404 - accuracy: 0.9902 - val_loss: 1.6935e-05 - val_accuracy: 1.0000\n",
      "Epoch 11/30\n",
      "800/800 [==============================] - 46s 57ms/step - loss: 0.0017 - accuracy: 0.9994 - val_loss: 9.8591e-07 - val_accuracy: 1.0000\n",
      "Epoch 12/30\n",
      "800/800 [==============================] - 46s 58ms/step - loss: 0.0517 - accuracy: 0.9875 - val_loss: 1.5122e-04 - val_accuracy: 1.0000\n",
      "Epoch 13/30\n",
      "800/800 [==============================] - 46s 57ms/step - loss: 0.0016 - accuracy: 0.9997 - val_loss: 7.7394e-05 - val_accuracy: 1.0000\n",
      "Epoch 14/30\n",
      "800/800 [==============================] - 46s 57ms/step - loss: 0.0250 - accuracy: 0.9927 - val_loss: 1.0313e-04 - val_accuracy: 1.0000\n",
      "Epoch 15/30\n",
      "800/800 [==============================] - 46s 58ms/step - loss: 0.0187 - accuracy: 0.9945 - val_loss: 0.0044 - val_accuracy: 1.0000\n",
      "Epoch 16/30\n",
      "800/800 [==============================] - 46s 57ms/step - loss: 0.0112 - accuracy: 0.9966 - val_loss: 0.0015 - val_accuracy: 0.9994\n",
      "Epoch 17/30\n",
      "800/800 [==============================] - 46s 57ms/step - loss: 0.0147 - accuracy: 0.9956 - val_loss: 0.0158 - val_accuracy: 0.9962\n",
      "Epoch 18/30\n",
      "800/800 [==============================] - 46s 57ms/step - loss: 0.0183 - accuracy: 0.9947 - val_loss: 5.8483e-05 - val_accuracy: 1.0000\n",
      "Epoch 19/30\n",
      "800/800 [==============================] - 46s 57ms/step - loss: 0.0085 - accuracy: 0.9978 - val_loss: 2.7119e-06 - val_accuracy: 1.0000\n",
      "Epoch 20/30\n",
      "800/800 [==============================] - 46s 58ms/step - loss: 0.0045 - accuracy: 0.9987 - val_loss: 0.7035 - val_accuracy: 0.9000\n",
      "Epoch 21/30\n",
      "800/800 [==============================] - 46s 57ms/step - loss: 0.0198 - accuracy: 0.9941 - val_loss: 1.1103e-06 - val_accuracy: 1.0000\n",
      "Epoch 22/30\n",
      "800/800 [==============================] - 46s 58ms/step - loss: 0.0043 - accuracy: 0.9984 - val_loss: 7.5246e-05 - val_accuracy: 1.0000\n",
      "Epoch 23/30\n",
      "800/800 [==============================] - 46s 57ms/step - loss: 5.6208e-04 - accuracy: 1.0000 - val_loss: 6.8842e-08 - val_accuracy: 1.0000\n",
      "Epoch 24/30\n",
      "800/800 [==============================] - 46s 57ms/step - loss: 3.2664e-05 - accuracy: 1.0000 - val_loss: 3.7998e-09 - val_accuracy: 1.0000\n",
      "Epoch 25/30\n",
      "800/800 [==============================] - 46s 57ms/step - loss: 0.0197 - accuracy: 0.9955 - val_loss: 1.0359 - val_accuracy: 0.8794\n",
      "Epoch 26/30\n",
      "800/800 [==============================] - 46s 58ms/step - loss: 0.0199 - accuracy: 0.9944 - val_loss: 0.0489 - val_accuracy: 0.9906\n",
      "Epoch 27/30\n",
      "800/800 [==============================] - 46s 58ms/step - loss: 0.0104 - accuracy: 0.9973 - val_loss: 1.5332e-04 - val_accuracy: 1.0000\n",
      "Epoch 28/30\n",
      "800/800 [==============================] - 46s 58ms/step - loss: 0.0088 - accuracy: 0.9980 - val_loss: 0.0047 - val_accuracy: 0.9994\n",
      "Epoch 29/30\n",
      "800/800 [==============================] - 46s 57ms/step - loss: 9.0255e-04 - accuracy: 0.9995 - val_loss: 1.1217e-04 - val_accuracy: 1.0000\n",
      "Epoch 30/30\n",
      "800/800 [==============================] - 45s 57ms/step - loss: 1.4413e-04 - accuracy: 1.0000 - val_loss: 1.4156e-08 - val_accuracy: 1.0000\n",
      "2/3\n",
      "Epoch 1/30\n",
      "800/800 [==============================] - 46s 58ms/step - loss: 0.0012 - accuracy: 0.9994 - val_loss: 5.2419e-07 - val_accuracy: 1.0000\n",
      "Epoch 2/30\n",
      "800/800 [==============================] - 45s 56ms/step - loss: 0.0342 - accuracy: 0.9927 - val_loss: 3.7362e-05 - val_accuracy: 1.0000\n",
      "Epoch 3/30\n",
      "800/800 [==============================] - 46s 57ms/step - loss: 0.0103 - accuracy: 0.9986 - val_loss: 7.2555e-06 - val_accuracy: 1.0000\n",
      "Epoch 4/30\n",
      "800/800 [==============================] - 45s 56ms/step - loss: 0.0043 - accuracy: 0.9994 - val_loss: 7.2193e-08 - val_accuracy: 1.0000\n",
      "Epoch 5/30\n",
      "800/800 [==============================] - 45s 57ms/step - loss: 0.0041 - accuracy: 0.9991 - val_loss: 0.0011 - val_accuracy: 0.9994\n",
      "Epoch 6/30\n",
      "800/800 [==============================] - 45s 57ms/step - loss: 0.0034 - accuracy: 0.9987 - val_loss: 1.9808e-07 - val_accuracy: 1.0000\n",
      "Epoch 7/30\n",
      "800/800 [==============================] - 45s 57ms/step - loss: 0.0086 - accuracy: 0.9980 - val_loss: 0.0012 - val_accuracy: 1.0000\n",
      "Epoch 8/30\n",
      "800/800 [==============================] - 45s 56ms/step - loss: 0.0186 - accuracy: 0.9967 - val_loss: 3.2235e-04 - val_accuracy: 1.0000\n",
      "Epoch 9/30\n",
      "800/800 [==============================] - 45s 56ms/step - loss: 0.0080 - accuracy: 0.9978 - val_loss: 4.9145e-07 - val_accuracy: 1.0000\n",
      "Epoch 10/30\n",
      "800/800 [==============================] - 46s 57ms/step - loss: 1.7248e-04 - accuracy: 1.0000 - val_loss: 5.5607e-07 - val_accuracy: 1.0000\n",
      "Epoch 11/30\n",
      "800/800 [==============================] - 45s 56ms/step - loss: 0.0105 - accuracy: 0.9975 - val_loss: 2.2819e-07 - val_accuracy: 1.0000\n",
      "Epoch 12/30\n",
      "800/800 [==============================] - 45s 56ms/step - loss: 0.0031 - accuracy: 0.9989 - val_loss: 3.0350e-06 - val_accuracy: 1.0000\n",
      "Epoch 13/30\n",
      "800/800 [==============================] - 45s 56ms/step - loss: 0.0050 - accuracy: 0.9989 - val_loss: 1.3784e-08 - val_accuracy: 1.0000\n",
      "Epoch 14/30\n",
      "800/800 [==============================] - 45s 57ms/step - loss: 2.7412e-04 - accuracy: 1.0000 - val_loss: 1.5988e-07 - val_accuracy: 1.0000\n",
      "Epoch 15/30\n",
      "800/800 [==============================] - 46s 57ms/step - loss: 0.0078 - accuracy: 0.9978 - val_loss: 2.3508e-06 - val_accuracy: 1.0000\n",
      "Epoch 16/30\n",
      "800/800 [==============================] - 45s 57ms/step - loss: 0.0026 - accuracy: 0.9995 - val_loss: 2.1933e-07 - val_accuracy: 1.0000\n",
      "Epoch 17/30\n",
      "800/800 [==============================] - 45s 57ms/step - loss: 2.7549e-05 - accuracy: 1.0000 - val_loss: 4.6565e-08 - val_accuracy: 1.0000\n",
      "Epoch 18/30\n",
      "800/800 [==============================] - 46s 57ms/step - loss: 2.1885e-05 - accuracy: 1.0000 - val_loss: 4.6715e-08 - val_accuracy: 1.0000\n",
      "Epoch 19/30\n",
      "800/800 [==============================] - 45s 57ms/step - loss: 3.0783e-05 - accuracy: 1.0000 - val_loss: 1.0609e-07 - val_accuracy: 1.0000\n",
      "Epoch 20/30\n",
      "800/800 [==============================] - 45s 56ms/step - loss: 1.3482e-05 - accuracy: 1.0000 - val_loss: 4.0754e-08 - val_accuracy: 1.0000\n",
      "Epoch 21/30\n",
      "800/800 [==============================] - 46s 57ms/step - loss: 0.0055 - accuracy: 0.9989 - val_loss: 0.0057 - val_accuracy: 0.9994\n",
      "Epoch 22/30\n",
      "800/800 [==============================] - 45s 56ms/step - loss: 0.0091 - accuracy: 0.9978 - val_loss: 1.1937e-06 - val_accuracy: 1.0000\n",
      "Epoch 23/30\n",
      "800/800 [==============================] - 46s 57ms/step - loss: 0.0073 - accuracy: 0.9992 - val_loss: 1.0153e-04 - val_accuracy: 1.0000\n",
      "Epoch 24/30\n",
      "800/800 [==============================] - 45s 57ms/step - loss: 0.0017 - accuracy: 0.9991 - val_loss: 2.3480e-06 - val_accuracy: 1.0000\n",
      "Epoch 25/30\n",
      "800/800 [==============================] - 45s 56ms/step - loss: 0.0017 - accuracy: 0.9994 - val_loss: 5.6657e-06 - val_accuracy: 1.0000\n",
      "Epoch 26/30\n",
      "800/800 [==============================] - 45s 57ms/step - loss: 5.9086e-05 - accuracy: 1.0000 - val_loss: 1.6219e-07 - val_accuracy: 1.0000\n",
      "Epoch 27/30\n",
      "800/800 [==============================] - 44s 55ms/step - loss: 5.2248e-06 - accuracy: 1.0000 - val_loss: 2.5257e-08 - val_accuracy: 1.0000\n",
      "Epoch 28/30\n",
      "800/800 [==============================] - 44s 55ms/step - loss: 0.0134 - accuracy: 0.9964 - val_loss: 2.8392e-07 - val_accuracy: 1.0000\n",
      "Epoch 29/30\n",
      "800/800 [==============================] - 44s 55ms/step - loss: 2.1167e-04 - accuracy: 1.0000 - val_loss: 1.1443e-07 - val_accuracy: 1.0000\n",
      "Epoch 30/30\n",
      "800/800 [==============================] - 45s 56ms/step - loss: 1.2088e-05 - accuracy: 1.0000 - val_loss: 9.2232e-08 - val_accuracy: 1.0000\n",
      "3/3\n",
      "Epoch 1/30\n",
      "800/800 [==============================] - 46s 57ms/step - loss: 1.3356e-04 - accuracy: 1.0000 - val_loss: 3.4048e-08 - val_accuracy: 1.0000\n",
      "Epoch 2/30\n",
      "800/800 [==============================] - 45s 57ms/step - loss: 0.0040 - accuracy: 0.9986 - val_loss: 6.1840e-09 - val_accuracy: 1.0000\n",
      "Epoch 3/30\n",
      "800/800 [==============================] - 45s 56ms/step - loss: 0.0094 - accuracy: 0.9973 - val_loss: 3.6321e-05 - val_accuracy: 1.0000\n",
      "Epoch 4/30\n",
      "800/800 [==============================] - 45s 56ms/step - loss: 0.0013 - accuracy: 0.9995 - val_loss: 3.7896e-06 - val_accuracy: 1.0000\n",
      "Epoch 5/30\n",
      "800/800 [==============================] - 45s 56ms/step - loss: 0.0027 - accuracy: 0.9994 - val_loss: 3.2864e-07 - val_accuracy: 1.0000\n",
      "Epoch 6/30\n",
      "800/800 [==============================] - 45s 56ms/step - loss: 0.0045 - accuracy: 0.9986 - val_loss: 1.3798e-07 - val_accuracy: 1.0000\n",
      "Epoch 7/30\n",
      "800/800 [==============================] - 45s 56ms/step - loss: 0.0059 - accuracy: 0.9989 - val_loss: 9.0787e-07 - val_accuracy: 1.0000\n",
      "Epoch 8/30\n",
      "800/800 [==============================] - 45s 56ms/step - loss: 0.0038 - accuracy: 0.9991 - val_loss: 3.4863e-06 - val_accuracy: 1.0000\n",
      "Epoch 9/30\n",
      "800/800 [==============================] - 45s 57ms/step - loss: 0.0064 - accuracy: 0.9991 - val_loss: 8.2949e-07 - val_accuracy: 1.0000\n",
      "Epoch 10/30\n",
      "800/800 [==============================] - 45s 57ms/step - loss: 0.0020 - accuracy: 0.9994 - val_loss: 2.8014e-08 - val_accuracy: 1.0000\n",
      "Epoch 11/30\n",
      "800/800 [==============================] - 45s 56ms/step - loss: 0.0111 - accuracy: 0.9980 - val_loss: 7.8591e-06 - val_accuracy: 1.0000\n",
      "Epoch 12/30\n",
      "800/800 [==============================] - 45s 56ms/step - loss: 0.0058 - accuracy: 0.9991 - val_loss: 7.9603e-07 - val_accuracy: 1.0000\n",
      "Epoch 13/30\n",
      "800/800 [==============================] - 45s 57ms/step - loss: 4.5609e-04 - accuracy: 0.9998 - val_loss: 1.4832e-04 - val_accuracy: 1.0000\n",
      "Epoch 14/30\n",
      "800/800 [==============================] - 45s 56ms/step - loss: 1.5774e-04 - accuracy: 1.0000 - val_loss: 3.5671e-04 - val_accuracy: 1.0000\n",
      "Epoch 15/30\n",
      "800/800 [==============================] - 45s 57ms/step - loss: 2.9674e-05 - accuracy: 1.0000 - val_loss: 2.4855e-04 - val_accuracy: 1.0000\n",
      "Epoch 16/30\n",
      "800/800 [==============================] - 45s 57ms/step - loss: 0.0031 - accuracy: 0.9992 - val_loss: 3.3226e-04 - val_accuracy: 1.0000\n",
      "Epoch 17/30\n",
      "800/800 [==============================] - 45s 56ms/step - loss: 0.0102 - accuracy: 0.9978 - val_loss: 1.0952e-08 - val_accuracy: 1.0000\n",
      "Epoch 18/30\n",
      "800/800 [==============================] - 45s 56ms/step - loss: 0.0010 - accuracy: 0.9995 - val_loss: 3.8370e-08 - val_accuracy: 1.0000\n",
      "Epoch 19/30\n",
      "800/800 [==============================] - 45s 56ms/step - loss: 1.2060e-04 - accuracy: 1.0000 - val_loss: 5.0664e-09 - val_accuracy: 1.0000\n",
      "Epoch 20/30\n",
      "800/800 [==============================] - 45s 56ms/step - loss: 0.0021 - accuracy: 0.9997 - val_loss: 5.9604e-09 - val_accuracy: 1.0000\n",
      "Epoch 21/30\n",
      "800/800 [==============================] - 45s 57ms/step - loss: 0.0013 - accuracy: 0.9995 - val_loss: 8.1956e-10 - val_accuracy: 1.0000\n",
      "Epoch 22/30\n",
      "800/800 [==============================] - 45s 56ms/step - loss: 0.0019 - accuracy: 0.9992 - val_loss: 6.0350e-09 - val_accuracy: 1.0000\n",
      "Epoch 23/30\n",
      "800/800 [==============================] - 45s 56ms/step - loss: 7.4921e-04 - accuracy: 0.9997 - val_loss: 0.0000e+00 - val_accuracy: 1.0000\n",
      "Epoch 24/30\n",
      "800/800 [==============================] - 45s 56ms/step - loss: 0.0168 - accuracy: 0.9980 - val_loss: 5.0123e-05 - val_accuracy: 1.0000\n",
      "Epoch 25/30\n",
      "800/800 [==============================] - 45s 56ms/step - loss: 1.6613e-04 - accuracy: 1.0000 - val_loss: 1.2517e-08 - val_accuracy: 1.0000\n",
      "Epoch 26/30\n",
      "800/800 [==============================] - 46s 57ms/step - loss: 6.6597e-05 - accuracy: 1.0000 - val_loss: 1.2874e-07 - val_accuracy: 1.0000\n",
      "Epoch 27/30\n",
      "800/800 [==============================] - 45s 56ms/step - loss: 2.9396e-05 - accuracy: 1.0000 - val_loss: 6.9736e-08 - val_accuracy: 1.0000\n",
      "Epoch 28/30\n",
      "800/800 [==============================] - 45s 56ms/step - loss: 5.2000e-06 - accuracy: 1.0000 - val_loss: 2.0042e-08 - val_accuracy: 1.0000\n",
      "Epoch 29/30\n",
      "800/800 [==============================] - 45s 56ms/step - loss: 7.9357e-06 - accuracy: 1.0000 - val_loss: 9.3132e-09 - val_accuracy: 1.0000\n",
      "Epoch 30/30\n",
      "800/800 [==============================] - 45s 56ms/step - loss: 7.6181e-07 - accuracy: 1.0000 - val_loss: 7.3016e-09 - val_accuracy: 1.0000\n",
      "Merge Model learning is finished!!!!\n",
      "\n"
     ]
    }
   ],
   "source": [
    "one_model_lst, one_history_lst = train_model(3, [2])"
   ]
  },
  {
   "cell_type": "code",
   "execution_count": 20,
   "id": "85baa95a-a52b-49aa-b7c1-ae900d3ccda9",
   "metadata": {},
   "outputs": [],
   "source": [
    "idx=0\n",
    "for i in one_model_lst:\n",
    "    i.save(\"one_model_{}.h5\".format(idx))\n",
    "    idx+=1"
   ]
  },
  {
   "cell_type": "code",
   "execution_count": 13,
   "id": "f207d5f6-13c2-450c-9803-812aeb8f9df6",
   "metadata": {
    "scrolled": true,
    "tags": []
   },
   "outputs": [
    {
     "name": "stdout",
     "output_type": "stream",
     "text": [
      "메모리 초기화 완료.\n",
      "Each Models are started learning...\n",
      "Start: 0, End: 8000\n",
      "SHAPE: (8000, 224, 224, 3) / (8000, 5)\n",
      "Epoch 1/10\n",
      "800/800 [==============================] - 50s 57ms/step - loss: 0.7490 - accuracy: 0.8358 - val_loss: 0.2074 - val_accuracy: 0.9200\n",
      "Epoch 2/10\n",
      "800/800 [==============================] - 44s 55ms/step - loss: 0.0943 - accuracy: 0.9708 - val_loss: 0.8062 - val_accuracy: 0.8181\n",
      "Epoch 3/10\n",
      "800/800 [==============================] - 43s 54ms/step - loss: 0.0670 - accuracy: 0.9805 - val_loss: 1.6267 - val_accuracy: 0.8981\n",
      "Epoch 4/10\n",
      "800/800 [==============================] - 44s 55ms/step - loss: 0.0557 - accuracy: 0.9837 - val_loss: 0.0447 - val_accuracy: 0.9819\n",
      "Epoch 5/10\n",
      "800/800 [==============================] - 43s 54ms/step - loss: 0.0652 - accuracy: 0.9822 - val_loss: 3.1563e-04 - val_accuracy: 1.0000\n",
      "Epoch 6/10\n",
      "800/800 [==============================] - 44s 55ms/step - loss: 0.0502 - accuracy: 0.9861 - val_loss: 0.0025 - val_accuracy: 0.9987\n",
      "Epoch 7/10\n",
      "800/800 [==============================] - 44s 55ms/step - loss: 0.0355 - accuracy: 0.9902 - val_loss: 1.8698e-04 - val_accuracy: 1.0000\n",
      "Epoch 8/10\n",
      "800/800 [==============================] - 43s 54ms/step - loss: 0.0135 - accuracy: 0.9967 - val_loss: 2.5849 - val_accuracy: 0.7750\n",
      "Epoch 9/10\n",
      "800/800 [==============================] - 44s 55ms/step - loss: 0.0345 - accuracy: 0.9902 - val_loss: 0.0011 - val_accuracy: 0.9994\n",
      "Epoch 10/10\n",
      "800/800 [==============================] - 44s 55ms/step - loss: 0.0535 - accuracy: 0.9873 - val_loss: 0.0070 - val_accuracy: 0.9962\n",
      "(1/3)...Finished!\n",
      "\n",
      "Start: 8000, End: 16000\n",
      "SHAPE: (8000, 224, 224, 3) / (8000, 5)\n",
      "Epoch 1/10\n",
      "800/800 [==============================] - 50s 57ms/step - loss: 0.7707 - accuracy: 0.8277 - val_loss: 0.6966 - val_accuracy: 0.7844\n",
      "Epoch 2/10\n",
      "800/800 [==============================] - 43s 54ms/step - loss: 0.1366 - accuracy: 0.9619 - val_loss: 0.7809 - val_accuracy: 0.8950\n",
      "Epoch 3/10\n",
      "800/800 [==============================] - 44s 55ms/step - loss: 0.0777 - accuracy: 0.9798 - val_loss: 0.0117 - val_accuracy: 0.9962\n",
      "Epoch 4/10\n",
      "800/800 [==============================] - 44s 55ms/step - loss: 0.0485 - accuracy: 0.9869 - val_loss: 0.0085 - val_accuracy: 0.9981\n",
      "Epoch 5/10\n",
      "800/800 [==============================] - 44s 55ms/step - loss: 0.0470 - accuracy: 0.9873 - val_loss: 0.0130 - val_accuracy: 0.9956\n",
      "Epoch 6/10\n",
      "800/800 [==============================] - 43s 54ms/step - loss: 0.0522 - accuracy: 0.9850 - val_loss: 0.0232 - val_accuracy: 0.9887\n",
      "Epoch 7/10\n",
      "800/800 [==============================] - 43s 54ms/step - loss: 0.0318 - accuracy: 0.9920 - val_loss: 3.7415e-06 - val_accuracy: 1.0000\n",
      "Epoch 8/10\n",
      "800/800 [==============================] - 44s 54ms/step - loss: 0.0174 - accuracy: 0.9947 - val_loss: 1.0200 - val_accuracy: 0.8838\n",
      "Epoch 9/10\n",
      "800/800 [==============================] - 44s 54ms/step - loss: 0.0644 - accuracy: 0.9841 - val_loss: 7.3428e-06 - val_accuracy: 1.0000\n",
      "Epoch 10/10\n",
      "800/800 [==============================] - 44s 55ms/step - loss: 0.0091 - accuracy: 0.9958 - val_loss: 5.2887e-06 - val_accuracy: 1.0000\n",
      "(2/3)...Finished!\n",
      "\n",
      "Start: 16000, End: 24000\n",
      "SHAPE: (8000, 224, 224, 3) / (8000, 5)\n",
      "Epoch 1/10\n",
      "800/800 [==============================] - 49s 55ms/step - loss: 0.7564 - accuracy: 0.8327 - val_loss: 0.0688 - val_accuracy: 0.9744\n",
      "Epoch 2/10\n",
      "800/800 [==============================] - 43s 54ms/step - loss: 0.0975 - accuracy: 0.9700 - val_loss: 0.0886 - val_accuracy: 0.9856\n",
      "Epoch 3/10\n",
      "800/800 [==============================] - 43s 54ms/step - loss: 0.0638 - accuracy: 0.9819 - val_loss: 0.1789 - val_accuracy: 0.9550\n",
      "Epoch 4/10\n",
      "800/800 [==============================] - 43s 54ms/step - loss: 0.0665 - accuracy: 0.9820 - val_loss: 8.9912e-06 - val_accuracy: 1.0000\n",
      "Epoch 5/10\n",
      "800/800 [==============================] - 43s 54ms/step - loss: 0.0374 - accuracy: 0.9894 - val_loss: 0.0233 - val_accuracy: 0.9837\n",
      "Epoch 6/10\n",
      "800/800 [==============================] - 43s 54ms/step - loss: 0.0452 - accuracy: 0.9895 - val_loss: 6.0959e-06 - val_accuracy: 1.0000\n",
      "Epoch 7/10\n",
      "800/800 [==============================] - 43s 54ms/step - loss: 0.0355 - accuracy: 0.9903 - val_loss: 2.3055e-05 - val_accuracy: 1.0000\n",
      "Epoch 8/10\n",
      "800/800 [==============================] - 43s 54ms/step - loss: 0.0459 - accuracy: 0.9866 - val_loss: 0.0017 - val_accuracy: 0.9994\n",
      "Epoch 9/10\n",
      "800/800 [==============================] - 43s 54ms/step - loss: 0.0110 - accuracy: 0.9964 - val_loss: 0.0099 - val_accuracy: 0.9975\n",
      "Epoch 10/10\n",
      "800/800 [==============================] - 43s 53ms/step - loss: 0.0339 - accuracy: 0.9902 - val_loss: 1.7898e-06 - val_accuracy: 1.0000\n",
      "(3/3)...Finished!\n",
      "\n"
     ]
    }
   ],
   "source": [
    "each_model_lst, each_history_lst = train_model(3, [3])"
   ]
  },
  {
   "cell_type": "code",
   "execution_count": 22,
   "id": "99598c1e-abad-4c22-b2b5-4463ed1c2b30",
   "metadata": {},
   "outputs": [],
   "source": [
    "idx=0\n",
    "for i in each_model_lst:\n",
    "    i.save(\"each_model_{}.h5\".format(idx))\n",
    "    idx+=1"
   ]
  },
  {
   "cell_type": "markdown",
   "id": "fbf31a75-3001-41ca-8525-db0bcf8fa7a5",
   "metadata": {},
   "source": [
    "#### 모델 검증 (20점)"
   ]
  },
  {
   "cell_type": "code",
   "execution_count": 23,
   "id": "881ddd19-51dc-49ab-af68-17de7cc8f4c2",
   "metadata": {},
   "outputs": [
    {
     "name": "stdout",
     "output_type": "stream",
     "text": [
      "188/188 [==============================] - 5s 23ms/step - loss: 1.5539e-07 - accuracy: 1.0000\n",
      "188/188 [==============================] - 5s 22ms/step - loss: 5.6216e-07 - accuracy: 1.0000\n",
      "188/188 [==============================] - 5s 22ms/step - loss: 2.3286e-05 - accuracy: 1.0000\n"
     ]
    }
   ],
   "source": [
    "for i in kfold_model_lst:\n",
    "    i.evaluate(X_test, y_test)"
   ]
  },
  {
   "cell_type": "code",
   "execution_count": 24,
   "id": "c0119d26-1ede-4417-9c52-9546d6140000",
   "metadata": {},
   "outputs": [
    {
     "name": "stdout",
     "output_type": "stream",
     "text": [
      "188/188 [==============================] - 5s 22ms/step - loss: 4.4900e-08 - accuracy: 1.0000\n"
     ]
    }
   ],
   "source": [
    "for i in one_model_lst:\n",
    "    i.evaluate(X_test, y_test)"
   ]
  },
  {
   "cell_type": "code",
   "execution_count": 27,
   "id": "63698590-2cb2-42d3-946b-b32fd4f39c2c",
   "metadata": {},
   "outputs": [
    {
     "name": "stdout",
     "output_type": "stream",
     "text": [
      "188/188 [==============================] - 5s 22ms/step - loss: 0.0056 - accuracy: 0.9973\n",
      "188/188 [==============================] - 5s 22ms/step - loss: 2.9200e-05 - accuracy: 1.0000\n",
      "188/188 [==============================] - 5s 22ms/step - loss: 1.5527e-06 - accuracy: 1.0000\n"
     ]
    }
   ],
   "source": [
    "for i in each_model_lst:\n",
    "    i.evaluate(X_test, y_test)"
   ]
  },
  {
   "cell_type": "code",
   "execution_count": 32,
   "id": "1e8e177b-8aad-40e1-91dc-803e7bbc1c33",
   "metadata": {},
   "outputs": [
    {
     "data": {
      "text/plain": [
       "4490"
      ]
     },
     "execution_count": 32,
     "metadata": {},
     "output_type": "execute_result"
    }
   ],
   "source": [
    "gc.collect()"
   ]
  },
  {
   "cell_type": "code",
   "execution_count": 38,
   "id": "d3b6cf83-a0d6-449c-81be-722907d4fe67",
   "metadata": {},
   "outputs": [
    {
     "data": {
      "image/png": "[encoded data removed]",
      "text/plain": [
       "<Figure size 640x480 with 2 Axes>"
      ]
     },
     "metadata": {},
     "output_type": "display_data"
    }
   ],
   "source": [
    "from sklearn.metrics import confusion_matrix\n",
    "import seaborn as sns\n",
    "\n",
    "y_pred = one_model_lst[0].predict(X_test)\n",
    "cm = confusion_matrix(y_test.argmax(1), y_pred.argmax(1))\n",
    "sns.heatmap(cm, annot=True, cmap='Blues')\n",
    "plt.xlabel('Predicted')\n",
    "plt.ylabel('True')\n",
    "plt.show()"
   ]
  },
  {
   "cell_type": "code",
   "execution_count": 39,
   "id": "0f27c67b-b5a5-499b-988a-660afc7fcff3",
   "metadata": {},
   "outputs": [],
   "source": [
    "def predict_model(img_path, label):\n",
    "    img = np.array(Image.open(img_path))\n",
    "    resized_img = resize(img, (224, 224, 3), preserve_range=True, anti_aliasing=True)/255.0\n",
    "    pred = np.argmax(one_model.predict(resized_img.reshape(1, 224, 224, 3)), axis=1)\n",
    "    category_list = ['C1', 'G1', 'H1', 'I1', 'T1']\n",
    "    if category_list[int(pred)] == label:\n",
    "        print(\"Success!\")\n",
    "    else:\n",
    "        print(\"Failed...\")\n",
    "    return pred"
   ]
  },
  {
   "cell_type": "markdown",
   "id": "4b6796db-1981-442a-9066-6be1ab7fa9d7",
   "metadata": {},
   "source": [
    "#### 적용 가능성 (20점)"
   ]
  },
  {
   "cell_type": "code",
   "execution_count": null,
   "id": "c0596084-d041-40d8-a899-6d846fcf8529",
   "metadata": {},
   "outputs": [],
   "source": []
  },
  {
   "cell_type": "markdown",
   "id": "fc5a84a9-0281-4c90-9650-64e8bdc0e0a0",
   "metadata": {},
   "source": [
    "#### 전달력 (20점)"
   ]
  }
 ],
 "metadata": {
  "kernelspec": {
   "display_name": "Python 3 (ipykernel)",
   "language": "python",
   "name": "python3"
  },
  "language_info": {
   "codemirror_mode": {
    "name": "ipython",
    "version": 3
   },
   "file_extension": ".py",
   "mimetype": "text/x-python",
   "name": "python",
   "nbconvert_exporter": "python",
   "pygments_lexer": "ipython3",
   "version": "3.8.13"
  }
 },
 "nbformat": 4,
 "nbformat_minor": 5
}
